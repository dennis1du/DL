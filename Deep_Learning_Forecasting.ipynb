{
 "cells": [
  {
   "cell_type": "markdown",
   "metadata": {},
   "source": [
    "# Setup"
   ]
  },
  {
   "cell_type": "code",
   "execution_count": 2,
   "metadata": {},
   "outputs": [],
   "source": [
    "import numpy as np\n",
    "import pandas as pd\n",
    "import matplotlib.pyplot as plt\n",
    "\n",
    "import tensorflow as tf\n",
    "from tensorflow import keras\n",
    "\n",
    "%matplotlib inline\n",
    "%config InlineBackend.figure_format='svg'"
   ]
  },
  {
   "cell_type": "markdown",
   "metadata": {},
   "source": [
    "# Data Processing\n",
    "## Preprocessing dataset"
   ]
  },
  {
   "cell_type": "code",
   "execution_count": 16,
   "metadata": {},
   "outputs": [],
   "source": [
    "df_Bos=pd.read_excel('./Data/raw/BOS Bookings 2017 - 2019.xlsx')"
   ]
  },
  {
   "cell_type": "code",
   "execution_count": 32,
   "metadata": {},
   "outputs": [],
   "source": [
    "df = df_Bos.copy()"
   ]
  },
  {
   "cell_type": "code",
   "execution_count": 50,
   "metadata": {},
   "outputs": [],
   "source": [
    "def process(df):    \n",
    "    # drop unused features\n",
    "    tmp = df.drop(columns=['DESTINATION', 'total_rev', 'RPM'])\n",
    "    \n",
    "    # rename\n",
    "    tmp.rename(columns={'FILE_SNPSHT_DT': 'Obs_dt', 'OD_DEP_DT': 'Dep_dt'}, inplace=True)\n",
    "    \n",
    "    # convert string to date time format\n",
    "    tmp[['Obs_dt','Dep_dt']] = tmp[['Obs_dt','Dep_dt']].apply(pd.to_datetime)\n",
    "    \n",
    "    # add \"Cumulative\": cumulative bookings\n",
    "    tmp = tmp.groupby(['Obs_dt', 'Dep_dt'], as_index=False).sum().rename(columns={'total_pax': 'Cumulative'})\n",
    "    \n",
    "    # order by the \"Dep_dt\" and \"Obs_dt\"\n",
    "    tmp.sort_values(['Dep_dt', 'Obs_dt'], inplace=True)\n",
    "    \n",
    "    # compute daily pax from cumulative pax\n",
    "    ## create empty dataframe\n",
    "    res = tmp.iloc[0:0]\n",
    "    \n",
    "    ## traversal for all departure dates\n",
    "    for dt in tmp['Dep_dt'].unique():\n",
    "        test = tmp.loc[tmp['Dep_dt'] == dt]\n",
    "        test['Daily'] = test['Cumulative']\n",
    "        test.loc[1:, 'Daily'] = test['Daily'].diff().loc[1:].values\n",
    "        res = pd.concat([res, test.loc[1:]], ignore_index=True)\n",
    "    return res[[\"Obs_dt\", \"Dep_dt\", \"Daily\", \"Cumulative\"]]"
   ]
  },
  {
   "cell_type": "code",
   "execution_count": 84,
   "metadata": {
    "scrolled": true
   },
   "outputs": [
    {
     "name": "stderr",
     "output_type": "stream",
     "text": [
      "/home/denn1s/miniconda3/envs/tf1/lib/python3.7/site-packages/ipykernel_launcher.py:24: SettingWithCopyWarning: \n",
      "A value is trying to be set on a copy of a slice from a DataFrame.\n",
      "Try using .loc[row_indexer,col_indexer] = value instead\n",
      "\n",
      "See the caveats in the documentation: http://pandas.pydata.org/pandas-docs/stable/user_guide/indexing.html#returning-a-view-versus-a-copy\n",
      "/home/denn1s/miniconda3/envs/tf1/lib/python3.7/site-packages/pandas/core/indexing.py:494: SettingWithCopyWarning: \n",
      "A value is trying to be set on a copy of a slice from a DataFrame.\n",
      "Try using .loc[row_indexer,col_indexer] = value instead\n",
      "\n",
      "See the caveats in the documentation: http://pandas.pydata.org/pandas-docs/stable/user_guide/indexing.html#returning-a-view-versus-a-copy\n",
      "  self.obj[item] = s\n",
      "/home/denn1s/miniconda3/envs/tf1/lib/python3.7/site-packages/ipykernel_launcher.py:26: FutureWarning: Sorting because non-concatenation axis is not aligned. A future version\n",
      "of pandas will change to not sort by default.\n",
      "\n",
      "To accept the future behavior, pass 'sort=False'.\n",
      "\n",
      "To retain the current behavior and silence the warning, pass 'sort=True'.\n",
      "\n"
     ]
    },
    {
     "data": {
      "text/html": [
       "<div>\n",
       "<style scoped>\n",
       "    .dataframe tbody tr th:only-of-type {\n",
       "        vertical-align: middle;\n",
       "    }\n",
       "\n",
       "    .dataframe tbody tr th {\n",
       "        vertical-align: top;\n",
       "    }\n",
       "\n",
       "    .dataframe thead th {\n",
       "        text-align: right;\n",
       "    }\n",
       "</style>\n",
       "<table border=\"1\" class=\"dataframe\">\n",
       "  <thead>\n",
       "    <tr style=\"text-align: right;\">\n",
       "      <th></th>\n",
       "      <th>Obs_dt</th>\n",
       "      <th>Dep_dt</th>\n",
       "      <th>Daily</th>\n",
       "      <th>Cumulative</th>\n",
       "    </tr>\n",
       "  </thead>\n",
       "  <tbody>\n",
       "    <tr>\n",
       "      <td>0</td>\n",
       "      <td>2016-10-03</td>\n",
       "      <td>2017-01-01</td>\n",
       "      <td>9.0</td>\n",
       "      <td>471</td>\n",
       "    </tr>\n",
       "    <tr>\n",
       "      <td>1</td>\n",
       "      <td>2016-10-04</td>\n",
       "      <td>2017-01-01</td>\n",
       "      <td>6.0</td>\n",
       "      <td>477</td>\n",
       "    </tr>\n",
       "    <tr>\n",
       "      <td>2</td>\n",
       "      <td>2016-10-05</td>\n",
       "      <td>2017-01-01</td>\n",
       "      <td>6.0</td>\n",
       "      <td>483</td>\n",
       "    </tr>\n",
       "    <tr>\n",
       "      <td>3</td>\n",
       "      <td>2016-10-06</td>\n",
       "      <td>2017-01-01</td>\n",
       "      <td>11.0</td>\n",
       "      <td>494</td>\n",
       "    </tr>\n",
       "    <tr>\n",
       "      <td>4</td>\n",
       "      <td>2016-10-07</td>\n",
       "      <td>2017-01-01</td>\n",
       "      <td>4.0</td>\n",
       "      <td>498</td>\n",
       "    </tr>\n",
       "    <tr>\n",
       "      <td>...</td>\n",
       "      <td>...</td>\n",
       "      <td>...</td>\n",
       "      <td>...</td>\n",
       "      <td>...</td>\n",
       "    </tr>\n",
       "    <tr>\n",
       "      <td>308409</td>\n",
       "      <td>2019-10-27</td>\n",
       "      <td>2019-10-31</td>\n",
       "      <td>180.0</td>\n",
       "      <td>3834</td>\n",
       "    </tr>\n",
       "    <tr>\n",
       "      <td>308410</td>\n",
       "      <td>2019-10-28</td>\n",
       "      <td>2019-10-31</td>\n",
       "      <td>166.0</td>\n",
       "      <td>4000</td>\n",
       "    </tr>\n",
       "    <tr>\n",
       "      <td>308411</td>\n",
       "      <td>2019-10-29</td>\n",
       "      <td>2019-10-31</td>\n",
       "      <td>299.0</td>\n",
       "      <td>4299</td>\n",
       "    </tr>\n",
       "    <tr>\n",
       "      <td>308412</td>\n",
       "      <td>2019-10-30</td>\n",
       "      <td>2019-10-31</td>\n",
       "      <td>908.0</td>\n",
       "      <td>5207</td>\n",
       "    </tr>\n",
       "    <tr>\n",
       "      <td>308413</td>\n",
       "      <td>2019-10-31</td>\n",
       "      <td>2019-10-31</td>\n",
       "      <td>519.0</td>\n",
       "      <td>5726</td>\n",
       "    </tr>\n",
       "  </tbody>\n",
       "</table>\n",
       "<p>308414 rows × 4 columns</p>\n",
       "</div>"
      ],
      "text/plain": [
       "           Obs_dt     Dep_dt  Daily  Cumulative\n",
       "0      2016-10-03 2017-01-01    9.0         471\n",
       "1      2016-10-04 2017-01-01    6.0         477\n",
       "2      2016-10-05 2017-01-01    6.0         483\n",
       "3      2016-10-06 2017-01-01   11.0         494\n",
       "4      2016-10-07 2017-01-01    4.0         498\n",
       "...           ...        ...    ...         ...\n",
       "308409 2019-10-27 2019-10-31  180.0        3834\n",
       "308410 2019-10-28 2019-10-31  166.0        4000\n",
       "308411 2019-10-29 2019-10-31  299.0        4299\n",
       "308412 2019-10-30 2019-10-31  908.0        5207\n",
       "308413 2019-10-31 2019-10-31  519.0        5726\n",
       "\n",
       "[308414 rows x 4 columns]"
      ]
     },
     "execution_count": 84,
     "metadata": {},
     "output_type": "execute_result"
    }
   ],
   "source": [
    "Boston_dataset = process(df)\n",
    "Boston_dataset"
   ]
  },
  {
   "cell_type": "markdown",
   "metadata": {},
   "source": [
    "## Training set and Test set"
   ]
  },
  {
   "cell_type": "markdown",
   "metadata": {},
   "source": [
    "- remove outliers"
   ]
  },
  {
   "cell_type": "code",
   "execution_count": 85,
   "metadata": {},
   "outputs": [],
   "source": [
    "Boston_dataset = Boston_dataset[Boston_dataset['Daily']>=0].reset_index(drop=True)"
   ]
  },
  {
   "cell_type": "markdown",
   "metadata": {},
   "source": [
    "- training set and test set"
   ]
  },
  {
   "cell_type": "code",
   "execution_count": 86,
   "metadata": {},
   "outputs": [],
   "source": [
    "train_data = Boston_dataset[Boston_dataset['Dep_dt'] < '2019-01-01']\n",
    "test_data = Boston_dataset[Boston_dataset['Dep_dt'] >= '2019-01-01']"
   ]
  },
  {
   "cell_type": "code",
   "execution_count": 87,
   "metadata": {},
   "outputs": [],
   "source": [
    "a = train_data['Daily'].values.reshape(-1, 1)\n",
    "b = test_data['Daily'].values.reshape(-1, 1)"
   ]
  },
  {
   "cell_type": "code",
   "execution_count": 88,
   "metadata": {},
   "outputs": [
    {
     "data": {
      "text/plain": [
       "(206272, 1)"
      ]
     },
     "execution_count": 88,
     "metadata": {},
     "output_type": "execute_result"
    }
   ],
   "source": [
    "a.shape"
   ]
  },
  {
   "cell_type": "code",
   "execution_count": 89,
   "metadata": {},
   "outputs": [
    {
     "data": {
      "text/plain": [
       "(97289, 1)"
      ]
     },
     "execution_count": 89,
     "metadata": {},
     "output_type": "execute_result"
    }
   ],
   "source": [
    "b.shape"
   ]
  },
  {
   "cell_type": "markdown",
   "metadata": {},
   "source": [
    "- normalization"
   ]
  },
  {
   "cell_type": "code",
   "execution_count": 90,
   "metadata": {},
   "outputs": [],
   "source": [
    "from sklearn.preprocessing import MinMaxScaler\n",
    "\n",
    "scaler = MinMaxScaler()\n",
    "a = scaler.fit_transform(a)\n",
    "b = scaler.transform(b)"
   ]
  },
  {
   "cell_type": "code",
   "execution_count": 92,
   "metadata": {},
   "outputs": [
    {
     "name": "stderr",
     "output_type": "stream",
     "text": [
      "/home/denn1s/miniconda3/envs/tf1/lib/python3.7/site-packages/ipykernel_launcher.py:1: SettingWithCopyWarning: \n",
      "A value is trying to be set on a copy of a slice from a DataFrame.\n",
      "Try using .loc[row_indexer,col_indexer] = value instead\n",
      "\n",
      "See the caveats in the documentation: http://pandas.pydata.org/pandas-docs/stable/user_guide/indexing.html#returning-a-view-versus-a-copy\n",
      "  \"\"\"Entry point for launching an IPython kernel.\n",
      "/home/denn1s/miniconda3/envs/tf1/lib/python3.7/site-packages/ipykernel_launcher.py:2: SettingWithCopyWarning: \n",
      "A value is trying to be set on a copy of a slice from a DataFrame.\n",
      "Try using .loc[row_indexer,col_indexer] = value instead\n",
      "\n",
      "See the caveats in the documentation: http://pandas.pydata.org/pandas-docs/stable/user_guide/indexing.html#returning-a-view-versus-a-copy\n",
      "  \n"
     ]
    }
   ],
   "source": [
    "train_data['Daily'] = a\n",
    "test_data['Daily'] = b"
   ]
  },
  {
   "cell_type": "markdown",
   "metadata": {},
   "source": [
    "## Training Data Preparation"
   ]
  },
  {
   "cell_type": "code",
   "execution_count": 131,
   "metadata": {},
   "outputs": [],
   "source": [
    "def create_input_ouput(df, input_timestep, output_timestep):\n",
    "    input_data, output_data = [], []\n",
    "    df_group = df.groupby(['Dep_dt'])  \n",
    "    \n",
    "    for dt in df_group.groups.keys():\n",
    "        tmp = df_group.get_group(dt)\n",
    "        for i in range(tmp.index[0], tmp.index[-1] - input_timestep\n",
    "                       - output_timestep + 2):\n",
    "            test = []\n",
    "            for j in range(input_timestep):\n",
    "                test.append(tmp['Daily'][i + j])\n",
    "            input_data.append(test)\n",
    "            \n",
    "            test = []\n",
    "            for j in range(output_timestep):\n",
    "                test.append(tmp['Daily'][i + input_timestep + j])\n",
    "            output_data.append(test)\n",
    "    return np.array(input_data), np.array(output_data)"
   ]
  },
  {
   "cell_type": "code",
   "execution_count": 132,
   "metadata": {},
   "outputs": [],
   "source": [
    "train_input, train_output = create_input_ouput(train_data, \n",
    "                                               input_timestep=3,\n",
    "                                               output_timestep=1)"
   ]
  },
  {
   "cell_type": "code",
   "execution_count": 133,
   "metadata": {},
   "outputs": [
    {
     "data": {
      "text/plain": [
       "(204082, 3)"
      ]
     },
     "execution_count": 133,
     "metadata": {},
     "output_type": "execute_result"
    }
   ],
   "source": [
    "train_input.shape"
   ]
  },
  {
   "cell_type": "code",
   "execution_count": 134,
   "metadata": {},
   "outputs": [
    {
     "data": {
      "text/plain": [
       "(204082, 1)"
      ]
     },
     "execution_count": 134,
     "metadata": {},
     "output_type": "execute_result"
    }
   ],
   "source": [
    "train_output.shape"
   ]
  },
  {
   "cell_type": "markdown",
   "metadata": {},
   "source": [
    "## Testing Data Preparation"
   ]
  },
  {
   "cell_type": "code",
   "execution_count": 135,
   "metadata": {},
   "outputs": [],
   "source": [
    "test_input, test_output = create_input_ouput(test_data,\n",
    "                                             input_timestep=3,\n",
    "                                             output_timestep=1)"
   ]
  },
  {
   "cell_type": "code",
   "execution_count": 136,
   "metadata": {},
   "outputs": [
    {
     "data": {
      "text/plain": [
       "(96377, 3)"
      ]
     },
     "execution_count": 136,
     "metadata": {},
     "output_type": "execute_result"
    }
   ],
   "source": [
    "test_input.shape"
   ]
  },
  {
   "cell_type": "code",
   "execution_count": 137,
   "metadata": {},
   "outputs": [
    {
     "data": {
      "text/plain": [
       "(96377, 1)"
      ]
     },
     "execution_count": 137,
     "metadata": {},
     "output_type": "execute_result"
    }
   ],
   "source": [
    "test_output.shape"
   ]
  },
  {
   "cell_type": "markdown",
   "metadata": {},
   "source": [
    "## Finalize"
   ]
  },
  {
   "cell_type": "code",
   "execution_count": 144,
   "metadata": {},
   "outputs": [],
   "source": [
    "x_train = train_input.reshape(train_input.shape[0],3,1)\n",
    "y_train = train_output.reshape(train_output.shape[0],1)"
   ]
  },
  {
   "cell_type": "code",
   "execution_count": 145,
   "metadata": {},
   "outputs": [
    {
     "data": {
      "text/plain": [
       "(204082, 3, 1)"
      ]
     },
     "execution_count": 145,
     "metadata": {},
     "output_type": "execute_result"
    }
   ],
   "source": [
    "x_train.shape"
   ]
  },
  {
   "cell_type": "code",
   "execution_count": 146,
   "metadata": {},
   "outputs": [
    {
     "data": {
      "text/plain": [
       "(204082, 1)"
      ]
     },
     "execution_count": 146,
     "metadata": {},
     "output_type": "execute_result"
    }
   ],
   "source": [
    "y_train.shape"
   ]
  },
  {
   "cell_type": "code",
   "execution_count": 147,
   "metadata": {},
   "outputs": [
    {
     "data": {
      "text/plain": [
       "array([[0.00297226],\n",
       "       [0.00198151],\n",
       "       [0.00198151]])"
      ]
     },
     "execution_count": 147,
     "metadata": {},
     "output_type": "execute_result"
    }
   ],
   "source": [
    "x_train[0]"
   ]
  },
  {
   "cell_type": "code",
   "execution_count": 148,
   "metadata": {},
   "outputs": [
    {
     "data": {
      "text/plain": [
       "array([0.00363276])"
      ]
     },
     "execution_count": 148,
     "metadata": {},
     "output_type": "execute_result"
    }
   ],
   "source": [
    "y_train[0]"
   ]
  },
  {
   "cell_type": "markdown",
   "metadata": {},
   "source": [
    "# LSTM Model"
   ]
  },
  {
   "cell_type": "markdown",
   "metadata": {},
   "source": [
    "## modeling"
   ]
  },
  {
   "cell_type": "code",
   "execution_count": 149,
   "metadata": {},
   "outputs": [],
   "source": [
    "latent_dimension = 64\n",
    "batch_size = 32"
   ]
  },
  {
   "cell_type": "code",
   "execution_count": 150,
   "metadata": {},
   "outputs": [
    {
     "name": "stdout",
     "output_type": "stream",
     "text": [
      "WARNING:tensorflow:From /home/denn1s/miniconda3/envs/tf1/lib/python3.7/site-packages/tensorflow/python/ops/init_ops.py:1251: calling VarianceScaling.__init__ (from tensorflow.python.ops.init_ops) with dtype is deprecated and will be removed in a future version.\n",
      "Instructions for updating:\n",
      "Call initializer instance with the dtype argument instead of passing it to the constructor\n",
      "Model: \"sequential\"\n",
      "_________________________________________________________________\n",
      "Layer (type)                 Output Shape              Param #   \n",
      "=================================================================\n",
      "lstm (LSTM)                  (None, 64)                16896     \n",
      "_________________________________________________________________\n",
      "dense (Dense)                (None, 1)                 65        \n",
      "=================================================================\n",
      "Total params: 16,961\n",
      "Trainable params: 16,961\n",
      "Non-trainable params: 0\n",
      "_________________________________________________________________\n"
     ]
    }
   ],
   "source": [
    "model = keras.Sequential()\n",
    "model.add(keras.layers.LSTM(latent_dimension, dropout=0.2, \n",
    "                            recurrent_dropout=0.1, input_shape=(3,1)))\n",
    "model.add(keras.layers.Dense(1))\n",
    "model.compile(loss='mse', optimizer='adam')\n",
    "model.summary()"
   ]
  },
  {
   "cell_type": "markdown",
   "metadata": {},
   "source": [
    "## training"
   ]
  },
  {
   "cell_type": "code",
   "execution_count": 151,
   "metadata": {},
   "outputs": [
    {
     "name": "stdout",
     "output_type": "stream",
     "text": [
      "WARNING:tensorflow:From /home/denn1s/miniconda3/envs/tf1/lib/python3.7/site-packages/tensorflow/python/ops/math_grad.py:1250: add_dispatch_support.<locals>.wrapper (from tensorflow.python.ops.array_ops) is deprecated and will be removed in a future version.\n",
      "Instructions for updating:\n",
      "Use tf.where in 2.0, which has the same broadcast rule as np.where\n",
      "Epoch 1/25\n",
      "204082/204082 - 30s - loss: 6.0587e-04\n",
      "Epoch 2/25\n",
      "204082/204082 - 29s - loss: 4.4554e-04\n",
      "Epoch 3/25\n",
      "204082/204082 - 30s - loss: 3.8092e-04\n",
      "Epoch 4/25\n",
      "204082/204082 - 30s - loss: 3.7169e-04\n",
      "Epoch 5/25\n",
      "204082/204082 - 30s - loss: 3.7057e-04\n",
      "Epoch 6/25\n",
      "204082/204082 - 30s - loss: 3.5955e-04\n",
      "Epoch 7/25\n",
      "204082/204082 - 30s - loss: 3.5007e-04\n",
      "Epoch 8/25\n",
      "204082/204082 - 31s - loss: 3.3787e-04\n",
      "Epoch 9/25\n",
      "204082/204082 - 30s - loss: 3.3665e-04\n",
      "Epoch 10/25\n",
      "204082/204082 - 30s - loss: 3.3530e-04\n",
      "Epoch 11/25\n",
      "204082/204082 - 30s - loss: 3.2917e-04\n",
      "Epoch 12/25\n",
      "204082/204082 - 30s - loss: 3.3239e-04\n",
      "Epoch 13/25\n",
      "204082/204082 - 30s - loss: 3.2337e-04\n",
      "Epoch 14/25\n",
      "204082/204082 - 30s - loss: 3.1622e-04\n",
      "Epoch 15/25\n",
      "204082/204082 - 30s - loss: 3.1632e-04\n",
      "Epoch 16/25\n",
      "204082/204082 - 30s - loss: 3.1162e-04\n",
      "Epoch 17/25\n",
      "204082/204082 - 30s - loss: 3.0579e-04\n",
      "Epoch 18/25\n",
      "204082/204082 - 30s - loss: 2.9847e-04\n",
      "Epoch 19/25\n",
      "204082/204082 - 30s - loss: 3.0359e-04\n",
      "Epoch 20/25\n",
      "204082/204082 - 30s - loss: 2.9845e-04\n",
      "Epoch 21/25\n",
      "204082/204082 - 30s - loss: 2.9619e-04\n",
      "Epoch 22/25\n",
      "204082/204082 - 30s - loss: 2.9932e-04\n",
      "Epoch 23/25\n",
      "204082/204082 - 30s - loss: 2.9460e-04\n",
      "Epoch 24/25\n",
      "204082/204082 - 30s - loss: 2.9947e-04\n",
      "Epoch 25/25\n",
      "204082/204082 - 30s - loss: 2.9457e-04\n"
     ]
    },
    {
     "data": {
      "text/plain": [
       "<tensorflow.python.keras.callbacks.History at 0x7feb6ccf3588>"
      ]
     },
     "execution_count": 151,
     "metadata": {},
     "output_type": "execute_result"
    }
   ],
   "source": [
    "model.fit(x_train, y_train, batch_size=batch_size, epochs=25, verbose=2)"
   ]
  },
  {
   "cell_type": "markdown",
   "metadata": {},
   "source": [
    "## prediction"
   ]
  },
  {
   "cell_type": "code",
   "execution_count": 152,
   "metadata": {},
   "outputs": [],
   "source": [
    "x_test = test_input.reshape(test_input.shape[0],3,1)\n",
    "y_test = test_output.reshape(test_output.shape[0],1)"
   ]
  },
  {
   "cell_type": "code",
   "execution_count": 153,
   "metadata": {},
   "outputs": [],
   "source": [
    "trainPredict = model.predict(x_train, batch_size=32)\n",
    "\n",
    "model.reset_states()\n",
    "\n",
    "testPredict = model.predict(x_test, batch_size=32)"
   ]
  },
  {
   "cell_type": "markdown",
   "metadata": {},
   "source": [
    "## validation"
   ]
  },
  {
   "cell_type": "code",
   "execution_count": 156,
   "metadata": {},
   "outputs": [],
   "source": [
    "# invert predictions\n",
    "train_y_pred = scaler.inverse_transform(trainPredict)\n",
    "train_y = scaler.inverse_transform(y_train)\n",
    "test_y_pred = scaler.inverse_transform(testPredict)\n",
    "test_y = scaler.inverse_transform(y_test)"
   ]
  },
  {
   "cell_type": "code",
   "execution_count": 175,
   "metadata": {},
   "outputs": [
    {
     "name": "stdout",
     "output_type": "stream",
     "text": [
      "mse for training set: 12.05561707505295\n"
     ]
    }
   ],
   "source": [
    "from sklearn.metrics import mean_absolute_error\n",
    "\n",
    "print(\"mse for training set:\", mean_absolute_error(train_y,train_y_pred))"
   ]
  },
  {
   "cell_type": "code",
   "execution_count": 176,
   "metadata": {},
   "outputs": [
    {
     "name": "stdout",
     "output_type": "stream",
     "text": [
      "mse for testing set: 10.639250858436478\n"
     ]
    }
   ],
   "source": [
    "print(\"mse for testing set:\", mean_absolute_error(test_y,test_y_pred))"
   ]
  },
  {
   "cell_type": "markdown",
   "metadata": {},
   "source": [
    "- visualization"
   ]
  },
  {
   "cell_type": "code",
   "execution_count": 171,
   "metadata": {},
   "outputs": [],
   "source": [
    "def plot(y_true, y_pred, version, flag, period=80):\n",
    "    plt.figure(figsize=(10,6))\n",
    "    plt.plot(y_true[:period],label='Actual')\n",
    "    plt.plot(y_pred[:period],label='Predicted')\n",
    "    plt.title('Model' + version + ' for ' + flag)\n",
    "    plt.ylabel('Bookings', rotation=0)\n",
    "    plt.xlabel('AP')\n",
    "    plt.legend()\n",
    "    plt.show()"
   ]
  },
  {
   "cell_type": "code",
   "execution_count": 172,
   "metadata": {},
   "outputs": [
    {
     "data": {
      "image/png": "[encoded data removed]",
      "text/plain": [
       "<Figure size 720x432 with 1 Axes>"
      ]
     },
     "metadata": {
      "needs_background": "light"
     },
     "output_type": "display_data"
    }
   ],
   "source": [
    "plot(train_y, train_y_pred, version='(3,1)', flag='training')"
   ]
  },
  {
   "cell_type": "code",
   "execution_count": 173,
   "metadata": {},
   "outputs": [
    {
     "data": {
      "image/png": "[encoded data removed]",
      "text/plain": [
       "<Figure size 720x432 with 1 Axes>"
      ]
     },
     "metadata": {
      "needs_background": "light"
     },
     "output_type": "display_data"
    }
   ],
   "source": [
    "plot(test_y, test_y_pred, version='(3,1)', flag='testing', period=25)"
   ]
  }
 ],
 "metadata": {
  "kernelspec": {
   "display_name": "Python 3",
   "language": "python",
   "name": "python3"
  },
  "language_info": {
   "codemirror_mode": {
    "name": "ipython",
    "version": 3
   },
   "file_extension": ".py",
   "mimetype": "text/x-python",
   "name": "python",
   "nbconvert_exporter": "python",
   "pygments_lexer": "ipython3",
   "version": "3.7.3"
  },
  "toc": {
   "base_numbering": 1,
   "nav_menu": {},
   "number_sections": false,
   "sideBar": true,
   "skip_h1_title": false,
   "title_cell": "Table of Contents",
   "title_sidebar": "Contents",
   "toc_cell": false,
   "toc_position": {},
   "toc_section_display": true,
   "toc_window_display": false
  }
 },
 "nbformat": 4,
 "nbformat_minor": 2
}
